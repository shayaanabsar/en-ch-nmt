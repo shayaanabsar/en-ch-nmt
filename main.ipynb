{
 "cells": [
  {
   "cell_type": "code",
   "execution_count": 1,
   "metadata": {},
   "outputs": [],
   "source": [
    "import torch\n",
    "import torch.nn as nn\n",
    "from nltk.tokenize import word_tokenize\n",
    "from os import path\n",
    "from math import sqrt"
   ]
  },
  {
   "cell_type": "code",
   "execution_count": 2,
   "metadata": {},
   "outputs": [],
   "source": [
    "class Vocabulary:\n",
    "\tdef __init__(self):\n",
    "\t\tself.vocabulary = set('')\n",
    "\t\tself.stoi = {'':0}\n",
    "\t\tself.itos = {0:''}\n",
    "\n",
    "\tdef add(self, v):\n",
    "\t\tif type(v) == str:\n",
    "\t\t\tself.vocabulary(v)\n",
    "\t\telif type(v) == list:\n",
    "\t\t\tself.vocabulary = self.vocabulary.union(set(v)) \n",
    "\n",
    "\tdef create_mappings(self):\n",
    "\t\tself.stoi = {v:i+1 for i, v in enumerate(self.vocabulary)}\n",
    "\t\tself.itos = {i+1:v for i, v in enumerate(self.vocabulary)}\n",
    "\n",
    "\tdef encode(self, s): \n",
    "\t\treturn [self.stoi[c] for c in s]\n",
    "\t\n",
    "\tdef decode(self, i): \n",
    "\t\treturn [self.itos[n] for n in i]\n",
    "\t\n",
    "\n",
    "class PreProcessor:\n",
    "\tdef __init__(self):\n",
    "\t\tself.english_vocabulary = Vocabulary()\n",
    "\t\tself.cherokee_vocabulary = Vocabulary()\n",
    "\t\tself.cherokee = []\n",
    "\t\tself.english = []\n",
    "\t\tself.max_length = 0\n",
    "\t\tself.count = 0\n",
    "\n",
    "\tdef load_text(self, file_name):\n",
    "\t\tdata, language = [], file_name.split('.')[1]\n",
    "\n",
    "\t\twith open(file_name) as f:\n",
    "\t\t\tfor line in f.readlines():\n",
    "\t\t\t\tsentence = word_tokenize(line)\n",
    "\n",
    "\t\t\t\tif language == 'en': \n",
    "\t\t\t\t\tself.english_vocabulary.add(sentence)\n",
    "\t\t\t\telse:\n",
    "\t\t\t\t\tself.cherokee_vocabulary.add(sentence)\n",
    "\n",
    "\t\t\t\tself.max_length = max(self.max_length, len(sentence))\n",
    "\t\t\t\tdata.append(sentence)\n",
    "\t\t\t\tself.count += 1 \n",
    "\t\treturn data\n",
    "\t\n",
    "\tdef get_data(self, file_set):\n",
    "\t\tcherokee = self.load_text(path.join('chr_en_data', f'{file_set}.chr'))\n",
    "\t\tenglish  = self.load_text(path.join('chr_en_data', f'{file_set}.en' ))\n",
    "\t\tassert len(cherokee) == len(english)\n",
    "\t\tself.cherokee += cherokee\n",
    "\t\tself.english  += english\n",
    "\n",
    "\t\treturn cherokee, english\n",
    "\n",
    "\t\n",
    "\tdef create_tensors(self):\n",
    "\t\tself.english_vocabulary.create_mappings()\n",
    "\t\tself.cherokee_vocabulary.create_mappings()\n",
    "\n",
    "\t\tenglish  = torch.zeros(size=(self.count//2, self.max_length), dtype=int)\n",
    "\t\tcherokee = torch.zeros(size=(self.count//2, self.max_length), dtype=int)\n",
    "\n",
    "\t\tfor i, sen in enumerate(self.english):\n",
    "\t\t\tfor j, v in enumerate(self.english_vocabulary.encode(sen)):\n",
    "\t\t\t\tenglish[i, j] = v\n",
    "\t\t\n",
    "\t\tfor i, sen in enumerate(self.cherokee):\n",
    "\t\t\tfor j, v in enumerate(self.cherokee_vocabulary.encode(sen)):\n",
    "\t\t\t\tcherokee[i, j] = v\n",
    "\n",
    "\t\tself.cherokee, self.english = cherokee, english\n",
    "\n",
    "\n",
    "preprocessor = PreProcessor()\n",
    "preprocessor.get_data('dev')\n",
    "preprocessor.get_data('test')\n",
    "preprocessor.get_data('train')\n",
    "preprocessor.create_tensors()\n",
    "\n",
    "test = word_tokenize('ᏣᏌᏙᏰᏃ ᎢᎦᎦᏛ ᏓᏳᏂᎷᏤᎵ ᏂᎬᎾᏛ ᏗᏁᎯ.')\n",
    "\n",
    "assert preprocessor.cherokee_vocabulary.decode(preprocessor.cherokee_vocabulary.encode(test)) == test\n",
    "assert preprocessor.english.shape == preprocessor.cherokee.shape"
   ]
  },
  {
   "cell_type": "code",
   "execution_count": 87,
   "metadata": {},
   "outputs": [
    {
     "name": "stdout",
     "output_type": "stream",
     "text": [
      "Cherokee Vocabulary Size: 44564\n",
      "English  Vocabulary Size: 13928\n"
     ]
    }
   ],
   "source": [
    "cherokee_vocab_size, english_vocab_size = len(preprocessor.cherokee_vocabulary.vocabulary), len(preprocessor.english_vocabulary.vocabulary)\n",
    "\n",
    "print(f'Cherokee Vocabulary Size: {cherokee_vocab_size}')\n",
    "print(f'English  Vocabulary Size: {english_vocab_size}')"
   ]
  },
  {
   "cell_type": "code",
   "execution_count": 81,
   "metadata": {},
   "outputs": [],
   "source": [
    "EMBEDDING_DIMENSIONS = 2\n",
    "SEQUENCE_LENGTH      = 5\n",
    "QKV_DIMENSIONS       = 2\n",
    "ATTENTION_HEADS      = 2"
   ]
  },
  {
   "cell_type": "code",
   "execution_count": 77,
   "metadata": {},
   "outputs": [],
   "source": [
    "class AttentionHead(nn.Module):\n",
    "\tdef __init__(self):\n",
    "\t\tsuper().__init__()\n",
    "\t\tself.obtain_key   = nn.Linear(EMBEDDING_DIMENSIONS, QKV_DIMENSIONS)\n",
    "\t\tself.obtain_query = nn.Linear(EMBEDDING_DIMENSIONS, QKV_DIMENSIONS)\n",
    "\t\tself.obtain_value = nn.Linear(EMBEDDING_DIMENSIONS, QKV_DIMENSIONS)\n",
    "\n",
    "\tdef forward(self, data):\n",
    "\t\tQ, K, V = self.obtain_key(data), self.obtain_query(data), self.obtain_value(data)\n",
    "\t\tmat_mul = Q @ K.transpose(-2, -1)\n",
    "\t\tscaled_mat_mul = mat_mul / sqrt(QKV_DIMENSIONS)\n",
    "\t\tsoftmax_mat_mul = torch.softmax(scaled_mat_mul, dim=-1)\n",
    "\t\toutput = softmax_mat_mul @ V\n",
    "\n",
    "\t\treturn output\n",
    "\n"
   ]
  },
  {
   "cell_type": "code",
   "execution_count": 86,
   "metadata": {},
   "outputs": [
    {
     "name": "stdout",
     "output_type": "stream",
     "text": [
      "tensor([[-0.4945, -0.9357],\n",
      "        [-0.5232, -0.9228],\n",
      "        [-0.6216, -0.8806],\n",
      "        [-0.7726, -0.8045],\n",
      "        [-0.5299, -0.9202]], grad_fn=<AddmmBackward0>)\n"
     ]
    }
   ],
   "source": [
    "class MultiHeadedAttention(nn.Module):\n",
    "\tdef __init__(self):\n",
    "\t\tsuper().__init__()\n",
    "\t\tself.heads  = [AttentionHead() for _ in range(ATTENTION_HEADS)]\n",
    "\t\tself.linear = nn.Linear(EMBEDDING_DIMENSIONS*ATTENTION_HEADS, EMBEDDING_DIMENSIONS)\n",
    "\n",
    "\tdef forward(self, data):\n",
    "\t\tvectors = torch.cat([head(data) for head in self.heads], dim=-1)\n",
    "\t\treturn self.linear(vectors)\n",
    "\t\n",
    "\n",
    "test = torch.randn(size=(SEQUENCE_LENGTH, EMBEDDING_DIMENSIONS))\n",
    "test_module = MultiHeadedAttention()\n",
    "print(test_module(test))\n"
   ]
  },
  {
   "cell_type": "code",
   "execution_count": 95,
   "metadata": {},
   "outputs": [
    {
     "name": "stdout",
     "output_type": "stream",
     "text": [
      "tensor([[ 0.1438, -0.2841],\n",
      "        [ 0.1535, -0.5275],\n",
      "        [ 0.1464, -0.5014],\n",
      "        [ 0.1329, -0.0187],\n",
      "        [ 0.1472, -0.5060]], grad_fn=<AddmmBackward0>)\n"
     ]
    }
   ],
   "source": [
    "class FeedForward(nn.Module):\n",
    "\tdef __init__(self):\n",
    "\t\tsuper().__init__()\n",
    "\t\tself.network = nn.Sequential(\n",
    "\t\t\tnn.Linear(EMBEDDING_DIMENSIONS, EMBEDDING_DIMENSIONS),\n",
    "\t\t\tnn.ReLU(),\n",
    "\t\t\tnn.Linear(EMBEDDING_DIMENSIONS, EMBEDDING_DIMENSIONS)\n",
    "\t\t)\n",
    "\n",
    "\tdef forward(self, data):\n",
    "\t\treturn self.network(data)\n",
    "\n",
    "test = torch.randn(size=(SEQUENCE_LENGTH, EMBEDDING_DIMENSIONS))\n",
    "test_module = FeedForward()\n",
    "print(test_module(test))\n"
   ]
  },
  {
   "cell_type": "code",
   "execution_count": 149,
   "metadata": {},
   "outputs": [
    {
     "name": "stdout",
     "output_type": "stream",
     "text": [
      "tensor([[-3.1532,  1.9609],\n",
      "        [-3.6078,  2.0312],\n",
      "        [-2.2964,  3.5502],\n",
      "        [-5.1408,  1.4809],\n",
      "        [-0.9624, -2.0376]], grad_fn=<AddBackward0>)\n"
     ]
    }
   ],
   "source": [
    "class Encoder(nn.Module):\n",
    "\tdef __init__(self):\n",
    "\t\tsuper().__init__()\n",
    "\t\tself.word_embeddings = nn.Embedding(cherokee_vocab_size, EMBEDDING_DIMENSIONS)\n",
    "\t\tself.positional_encodings = nn.Embedding(SEQUENCE_LENGTH, EMBEDDING_DIMENSIONS)\n",
    "\t\tself.multi_headed_attention = MultiHeadedAttention()\n",
    "\t\tself.norm1 = nn.LayerNorm(EMBEDDING_DIMENSIONS)\n",
    "\t\tself.feed_forward = FeedForward()\n",
    "\t\tself.norm2 = nn.LayerNorm(EMBEDDING_DIMENSIONS)\n",
    "\n",
    "\tdef forward(self, data):\n",
    "\t\tencodings = self.word_embeddings(data) + self.positional_encodings(torch.tensor([i for i in range(SEQUENCE_LENGTH)]))\n",
    "\t\tattention_vectors = self.multi_headed_attention(encodings)\n",
    "\t\tnormalised = self.norm1(attention_vectors) + encodings # Residual Connection\n",
    "\t\tfed_through = self.feed_forward(normalised)\n",
    "\t\tnormalised_2 = self.norm2(fed_through) + normalised\n",
    "\n",
    "\t\treturn normalised_2\n",
    "\t\n",
    "test = torch.randint(low=0, high=cherokee_vocab_size-1, size=(SEQUENCE_LENGTH,))\n",
    "test_module = Encoder()\n",
    "print(test_module(test))"
   ]
  }
 ],
 "metadata": {
  "kernelspec": {
   "display_name": "Python 3",
   "language": "python",
   "name": "python3"
  },
  "language_info": {
   "codemirror_mode": {
    "name": "ipython",
    "version": 3
   },
   "file_extension": ".py",
   "mimetype": "text/x-python",
   "name": "python",
   "nbconvert_exporter": "python",
   "pygments_lexer": "ipython3",
   "version": "3.11.6"
  }
 },
 "nbformat": 4,
 "nbformat_minor": 2
}
