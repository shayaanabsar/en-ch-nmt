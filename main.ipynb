{
 "cells": [
  {
   "cell_type": "code",
   "execution_count": 47,
   "metadata": {},
   "outputs": [],
   "source": [
    "import torch\n",
    "import torch.nn as nn\n",
    "from nltk.tokenize import word_tokenize\n",
    "from os import path\n",
    "from math import sqrt"
   ]
  },
  {
   "cell_type": "code",
   "execution_count": 102,
   "metadata": {},
   "outputs": [],
   "source": [
    "class Vocabulary:\n",
    "\tdef __init__(self):\n",
    "\t\tself.vocabulary = set('')\n",
    "\t\tself.stoi = {'<N>':0, '<S>': 1, '<E>': 2}\n",
    "\t\tself.itos = {0:'<N>', 1:'<S>', 2: '<E>'}\n",
    "\n",
    "\tdef add(self, v):\n",
    "\t\tif type(v) == str:\n",
    "\t\t\tself.vocabulary.add(v)\n",
    "\t\telif type(v) == list:\n",
    "\t\t\tself.vocabulary = self.vocabulary.union(set(v)) \n",
    "\n",
    "\tdef create_mappings(self):\n",
    "\t\tself.stoi = {v:i+1 for i, v in enumerate(self.vocabulary)}\n",
    "\t\tself.itos = {i+1:v for i, v in enumerate(self.vocabulary)}\n",
    "\n",
    "\tdef encode(self, s): \n",
    "\t\treturn [self.stoi[c] for c in s]\n",
    "\t\n",
    "\tdef decode(self, i): \n",
    "\t\treturn [self.itos[n] for n in i]\n",
    "\t\n",
    "\n",
    "class PreProcessor:\n",
    "\tdef __init__(self):\n",
    "\t\tself.english_vocabulary = Vocabulary()\n",
    "\t\tself.cherokee_vocabulary = Vocabulary()\n",
    "\t\tself.cherokee = []\n",
    "\t\tself.english = []\n",
    "\t\tself.max_length = 0\n",
    "\t\tself.count = 0\n",
    "\n",
    "\tdef load_text(self, file_name):\n",
    "\t\tdata, language = [], file_name.split('.')[1]\n",
    "\n",
    "\t\twith open(file_name) as f:\n",
    "\t\t\tfor line in f.readlines():\n",
    "\t\t\t\tsentence = ['<S>'] + word_tokenize(line) + ['<E>']\n",
    "\n",
    "\t\t\t\tif language == 'en':\n",
    "\t\t\t\t\tself.english_vocabulary.add(sentence)\n",
    "\t\t\t\telse:\n",
    "\t\t\t\t\tself.cherokee_vocabulary.add(sentence)\n",
    "\n",
    "\t\t\t\tself.max_length = max(self.max_length, len(sentence))\n",
    "\t\t\t\tdata.append(sentence)\n",
    "\t\t\t\tself.count += 1 \n",
    "\t\treturn data\n",
    "\t\n",
    "\tdef get_data(self, file_set):\n",
    "\t\tcherokee = self.load_text(path.join('chr_en_data', f'{file_set}.chr'))\n",
    "\t\tenglish  = self.load_text(path.join('chr_en_data', f'{file_set}.en' ))\n",
    "\t\tassert len(cherokee) == len(english)\n",
    "\t\tself.cherokee += cherokee\n",
    "\t\tself.english  += english\n",
    "\n",
    "\t\treturn cherokee, english\n",
    "\n",
    "\t\n",
    "\tdef create_tensors(self):\n",
    "\t\tself.english_vocabulary.create_mappings()\n",
    "\t\tself.cherokee_vocabulary.create_mappings()\n",
    "\n",
    "\t\tenglish  = torch.zeros(size=(self.count//2, self.max_length), dtype=int)\n",
    "\t\tcherokee = torch.zeros(size=(self.count//2, self.max_length), dtype=int)\n",
    "\n",
    "\t\tfor i, sen in enumerate(self.english):\n",
    "\t\t\tfor j, v in enumerate(self.english_vocabulary.encode(sen)):\n",
    "\t\t\t\tenglish[i, j] = v\n",
    "\t\t\n",
    "\t\tfor i, sen in enumerate(self.cherokee):\n",
    "\t\t\tfor j, v in enumerate(self.cherokee_vocabulary.encode(sen)):\n",
    "\t\t\t\tcherokee[i, j] = v\n",
    "\n",
    "\t\tself.cherokee, self.english = cherokee, english\n",
    "\n",
    "\n",
    "preprocessor = PreProcessor()\n",
    "preprocessor.get_data('dev')\n",
    "preprocessor.get_data('test')\n",
    "preprocessor.get_data('train')\n",
    "preprocessor.create_tensors()\n",
    "\n",
    "test = word_tokenize('ᏣᏌᏙᏰᏃ ᎢᎦᎦᏛ ᏓᏳᏂᎷᏤᎵ ᏂᎬᎾᏛ ᏗᏁᎯ.')\n",
    "\n",
    "assert preprocessor.cherokee_vocabulary.decode(preprocessor.cherokee_vocabulary.encode(test)) == test\n",
    "assert preprocessor.english.shape == preprocessor.cherokee.shape"
   ]
  },
  {
   "cell_type": "code",
   "execution_count": 103,
   "metadata": {},
   "outputs": [
    {
     "name": "stdout",
     "output_type": "stream",
     "text": [
      "Cherokee Vocabulary Size: 44566\n",
      "English  Vocabulary Size: 13930\n"
     ]
    }
   ],
   "source": [
    "cherokee_vocab_size, english_vocab_size = len(preprocessor.cherokee_vocabulary.vocabulary), len(preprocessor.english_vocabulary.vocabulary)\n",
    "\n",
    "print(f'Cherokee Vocabulary Size: {cherokee_vocab_size}')\n",
    "print(f'English  Vocabulary Size: {english_vocab_size}')"
   ]
  },
  {
   "cell_type": "code",
   "execution_count": 104,
   "metadata": {},
   "outputs": [],
   "source": [
    "EMBEDDING_DIMENSIONS = 5\n",
    "QKV_DIMENSIONS       = 5\n",
    "SEQUENCE_LENGTH      = 5\n",
    "ATTENTION_HEADS      = 2\n",
    "DECODERS             = 2\n",
    "ENCODERS             = 2"
   ]
  },
  {
   "cell_type": "code",
   "execution_count": 105,
   "metadata": {},
   "outputs": [
    {
     "name": "stdout",
     "output_type": "stream",
     "text": [
      "tensor([[ 0.0026, -0.9088,  1.6150,  1.0649, -0.1640],\n",
      "        [ 0.2089, -1.5967,  2.2217,  0.3630, -1.1184],\n",
      "        [-0.6699,  0.9744, -0.7703, -1.4703, -0.3523],\n",
      "        [ 1.0055, -0.3507, -0.4039, -1.6458,  0.3344],\n",
      "        [ 1.0550,  0.7338, -0.8857,  1.0953, -1.0944]])\n",
      "tensor([[ 0.0026,    -inf,    -inf,    -inf,    -inf],\n",
      "        [ 0.2089, -1.5967,    -inf,    -inf,    -inf],\n",
      "        [-0.6699,  0.9744, -0.7703,    -inf,    -inf],\n",
      "        [ 1.0055, -0.3507, -0.4039, -1.6458,    -inf],\n",
      "        [ 1.0550,  0.7338, -0.8857,  1.0953, -1.0944]])\n"
     ]
    }
   ],
   "source": [
    "def mask_tensor(t):\n",
    "\tmask = torch.tril(torch.ones(size=(t.shape)))\n",
    "\tmask[mask==0], mask[mask==1] = float('-inf'), 0\n",
    "\t\n",
    "\treturn t + mask\n",
    "\n",
    "test = torch.randn(SEQUENCE_LENGTH, SEQUENCE_LENGTH)\n",
    "print(test)\n",
    "print(mask_tensor(test))"
   ]
  },
  {
   "cell_type": "code",
   "execution_count": 106,
   "metadata": {},
   "outputs": [
    {
     "name": "stdout",
     "output_type": "stream",
     "text": [
      "tensor([[ 0.5802, -0.6937,  0.0367,  0.1371, -0.0760],\n",
      "        [ 0.7351, -0.9166,  0.0179,  0.2681, -0.2171],\n",
      "        [ 0.3909, -0.5445,  0.2628, -0.1997,  0.0178],\n",
      "        [ 0.6411, -0.7779,  0.0194,  0.2525, -0.0891],\n",
      "        [ 0.3949, -0.4536,  0.1381, -0.0649,  0.1054]], grad_fn=<MmBackward0>)\n"
     ]
    }
   ],
   "source": [
    "class AttentionHead(nn.Module):\n",
    "\tdef __init__(self, masked=False):\n",
    "\t\tsuper().__init__()\n",
    "\t\tself.obtain_key   = nn.Linear(EMBEDDING_DIMENSIONS, QKV_DIMENSIONS)\n",
    "\t\tself.obtain_query = nn.Linear(EMBEDDING_DIMENSIONS, QKV_DIMENSIONS)\n",
    "\t\tself.obtain_value = nn.Linear(EMBEDDING_DIMENSIONS, QKV_DIMENSIONS)\n",
    "\t\tself.masked = masked\n",
    "\n",
    "\tdef forward(self, data, encoder_output=None):\n",
    "\t\tif encoder_output is None: Q, K, V = self.obtain_query(data), self.obtain_key(data), self.obtain_value(data)\n",
    "\t\telse: Q, K, V = self.obtain_query(data), self.obtain_key(encoder_output), self.obtain_value(encoder_output)\n",
    "\t\tmat_mul = Q @ K.transpose(-2, -1)\n",
    "\t\tscaled_mat_mul = mat_mul / sqrt(QKV_DIMENSIONS)\n",
    "\t\tif self.masked: scaled_mat_mul = mask_tensor(scaled_mat_mul)\n",
    "\t\tsoftmax_mat_mul = torch.softmax(scaled_mat_mul, dim=-1)\n",
    "\t\toutput = softmax_mat_mul @ V\n",
    "\n",
    "\t\treturn output\n",
    "\n",
    "\n",
    "test, e_output = torch.randn(size=(SEQUENCE_LENGTH, EMBEDDING_DIMENSIONS)), torch.randn(size=(SEQUENCE_LENGTH, QKV_DIMENSIONS))\n",
    "test_module = AttentionHead()\n",
    "print(test_module(test, encoder_output=e_output))\n",
    "\n"
   ]
  },
  {
   "cell_type": "code",
   "execution_count": 107,
   "metadata": {},
   "outputs": [
    {
     "name": "stdout",
     "output_type": "stream",
     "text": [
      "tensor([[-0.1817, -0.3894, -0.2600, -0.2322, -0.1825],\n",
      "        [-0.0993, -0.4125, -0.2427, -0.2454, -0.2715],\n",
      "        [-0.1817, -0.4075, -0.2692, -0.1919, -0.1530],\n",
      "        [-0.2235, -0.3671, -0.2861, -0.2582, -0.1797],\n",
      "        [-0.0955, -0.4401, -0.2483, -0.2158, -0.2510]],\n",
      "       grad_fn=<AddmmBackward0>)\n"
     ]
    }
   ],
   "source": [
    "class MultiHeadedAttention(nn.Module):\n",
    "\tdef __init__(self, masked=False):\n",
    "\t\tsuper().__init__()\n",
    "\t\tself.heads  = [AttentionHead(masked=masked) for _ in range(ATTENTION_HEADS)]\n",
    "\t\tself.linear = nn.Linear(EMBEDDING_DIMENSIONS*ATTENTION_HEADS, EMBEDDING_DIMENSIONS)\n",
    "\n",
    "\tdef forward(self, data, encoder_output=None):\n",
    "\t\tvectors = torch.cat([head(data, encoder_output=encoder_output) for head in self.heads], dim=-1)\n",
    "\t\treturn self.linear(vectors)\n",
    "\t\n",
    "\n",
    "test = torch.randn(size=(SEQUENCE_LENGTH, EMBEDDING_DIMENSIONS))\n",
    "test_module = MultiHeadedAttention()\n",
    "print(test_module(test))\n"
   ]
  },
  {
   "cell_type": "code",
   "execution_count": 108,
   "metadata": {},
   "outputs": [
    {
     "name": "stdout",
     "output_type": "stream",
     "text": [
      "tensor([[-0.9341,  0.1639,  0.7006,  0.1613,  1.1755],\n",
      "        [-0.5051,  0.2032,  0.4093, -0.0170,  0.4876],\n",
      "        [-0.5818,  0.2931,  0.4013, -0.0212,  0.5960],\n",
      "        [ 0.0598,  0.7212,  0.7467, -0.6149,  0.4439],\n",
      "        [-0.5700,  0.5483,  0.4951, -0.2060,  0.7478]],\n",
      "       grad_fn=<AddmmBackward0>)\n"
     ]
    }
   ],
   "source": [
    "class FeedForward(nn.Module):\n",
    "\tdef __init__(self):\n",
    "\t\tsuper().__init__()\n",
    "\t\tself.network = nn.Sequential(\n",
    "\t\t\tnn.Linear(EMBEDDING_DIMENSIONS, EMBEDDING_DIMENSIONS),\n",
    "\t\t\tnn.ReLU(),\n",
    "\t\t\tnn.Linear(EMBEDDING_DIMENSIONS, EMBEDDING_DIMENSIONS)\n",
    "\t\t)\n",
    "\n",
    "\tdef forward(self, data):\n",
    "\t\treturn self.network(data)\n",
    "\n",
    "test = torch.randn(size=(SEQUENCE_LENGTH, EMBEDDING_DIMENSIONS))\n",
    "test_module = FeedForward()\n",
    "print(test_module(test))\n"
   ]
  },
  {
   "cell_type": "code",
   "execution_count": 109,
   "metadata": {},
   "outputs": [
    {
     "name": "stdout",
     "output_type": "stream",
     "text": [
      "tensor([[ 0.5764,  0.3275,  0.5348, -0.7746,  1.3217],\n",
      "        [-0.0601, -0.0192, -0.9197,  0.4947, -0.2846],\n",
      "        [-1.7239, -1.9580, -0.8073, -1.7400,  0.6799],\n",
      "        [-0.1074, -0.1866, -0.4353, -1.0101,  0.7205],\n",
      "        [-1.2910, -1.2811,  0.1341, -0.4968, -0.1988]])\n",
      "tensor([[ 1.6232,  1.4327, -2.2987, -0.4335,  1.6620],\n",
      "        [ 1.5448,  1.3409, -3.6880,  0.8506, -0.8372],\n",
      "        [ 0.2254, -0.6989, -3.1884, -0.7318, -1.1555],\n",
      "        [ 1.8617,  1.0154, -3.2904, -0.4599, -0.1459],\n",
      "        [ 0.5982,  0.4254, -1.5111, -0.1768, -2.4691]], grad_fn=<AddBackward0>)\n"
     ]
    }
   ],
   "source": [
    "class Encoder(nn.Module):\n",
    "\tdef __init__(self):\n",
    "\t\tsuper().__init__()\n",
    "\t\tself.multi_headed_attention = MultiHeadedAttention()\n",
    "\t\tself.norm1 = nn.LayerNorm(EMBEDDING_DIMENSIONS)\n",
    "\t\tself.feed_forward = FeedForward()\n",
    "\t\tself.norm2 = nn.LayerNorm(EMBEDDING_DIMENSIONS)\n",
    "\n",
    "\tdef forward(self, data):\n",
    "\t\tattention_vectors = self.multi_headed_attention(data)\n",
    "\t\tnormalised = self.norm1(attention_vectors) + data # Residual Connection\n",
    "\t\tfed_through = self.feed_forward(normalised)\n",
    "\t\tnormalised_2 = self.norm2(fed_through) + normalised\n",
    "\n",
    "\t\treturn normalised_2\n",
    "\t\n",
    "test = torch.randn(size=(SEQUENCE_LENGTH, EMBEDDING_DIMENSIONS))\n",
    "print(test)\n",
    "test_module = Encoder()\n",
    "print(test_module(test))"
   ]
  },
  {
   "cell_type": "code",
   "execution_count": 110,
   "metadata": {},
   "outputs": [
    {
     "name": "stdout",
     "output_type": "stream",
     "text": [
      "tensor([[ 0.3078,  2.9139, -0.2311, -1.8258, -1.5334],\n",
      "        [ 0.2316,  2.7685, -2.3870, -3.0375, -0.1999],\n",
      "        [ 1.6120,  3.4501, -0.0888, -1.5791, -1.2621],\n",
      "        [-0.9488,  2.1729,  0.0114, -0.1391, -0.8286],\n",
      "        [ 0.0897,  2.3470, -1.0117, -1.3317, -1.0284]], grad_fn=<AddBackward0>)\n"
     ]
    }
   ],
   "source": [
    "class Decoder(nn.Module):\n",
    "\tdef __init__(self):\n",
    "\t\tsuper().__init__()\n",
    "\t\tself.masked_attention = MultiHeadedAttention(masked=True)\n",
    "\t\tself.norm1 = nn.LayerNorm(EMBEDDING_DIMENSIONS)\n",
    "\t\tself.cross_attention  = MultiHeadedAttention()\n",
    "\t\tself.norm2 = nn.LayerNorm(EMBEDDING_DIMENSIONS)\n",
    "\t\tself.feed_forward = FeedForward()\n",
    "\t\tself.norm3 = nn.LayerNorm(EMBEDDING_DIMENSIONS)\n",
    "\n",
    "\tdef forward(self, data, encoder_output):\n",
    "\t\tattention_vectors = self.masked_attention(data)\n",
    "\t\tnormalised = self.norm1(attention_vectors) + data\n",
    "\t\tcross_attention = self.cross_attention(normalised, encoder_output=encoder_output)\n",
    "\t\tnormalised = self.norm2(cross_attention) + normalised\n",
    "\t\tlinear = self.feed_forward(normalised)\n",
    "\t\tnormalised = self.norm3(linear) + normalised\n",
    "\n",
    "\t\treturn normalised\n",
    "\n",
    "\n",
    "test = torch.randn(size=(EMBEDDING_DIMENSIONS, SEQUENCE_LENGTH))\n",
    "encoder_output = torch.randn(size=(SEQUENCE_LENGTH, QKV_DIMENSIONS))\n",
    "test_module = Decoder()\n",
    "print(test_module(test, encoder_output))"
   ]
  },
  {
   "cell_type": "code",
   "execution_count": 112,
   "metadata": {},
   "outputs": [
    {
     "name": "stdout",
     "output_type": "stream",
     "text": [
      "torch.Size([13930])\n"
     ]
    }
   ],
   "source": [
    "class Transformer(nn.Module):\n",
    "\tdef __init__(self):\n",
    "\t\tsuper().__init__()\n",
    "\t\tself.cherokee_embeddings = nn.Embedding(cherokee_vocab_size, EMBEDDING_DIMENSIONS)\n",
    "\t\tself.cherokee_positional_encodings = nn.Embedding(SEQUENCE_LENGTH, EMBEDDING_DIMENSIONS)\n",
    "\t\tself.encoders = [Encoder() for _ in range(ENCODERS)]\n",
    "\t\tself.decoders = [Decoder() for _ in range(DECODERS)]\n",
    "\t\tself.english_embeddings = nn.Embedding(english_vocab_size, EMBEDDING_DIMENSIONS)\n",
    "\t\tself.english_positional_encodings = nn.Embedding(SEQUENCE_LENGTH, EMBEDDING_DIMENSIONS)\n",
    "\t\tself.linear   = nn.Linear(SEQUENCE_LENGTH*QKV_DIMENSIONS, english_vocab_size) \n",
    "\n",
    "\tdef forward(self, source, target_context):\n",
    "\t\tencoder_output = self.cherokee_embeddings(source) + self.cherokee_positional_encodings(torch.tensor([i for i in range(SEQUENCE_LENGTH)]))\n",
    "\t\tfor encoder in self.encoders:\n",
    "\t\t\tencoder_output = encoder(encoder_output)\n",
    "\n",
    "\t\tdecoder_output = self.english_embeddings(target_context) + self.english_positional_encodings(torch.tensor([i for i in range(SEQUENCE_LENGTH)]))\n",
    "\t\tfor decoder in self.decoders:\n",
    "\t\t\tdecoder_output = decoder(decoder_output, encoder_output=encoder_output)\n",
    "\n",
    "\t\tdecoder_output = torch.flatten(decoder_output)\n",
    "\t\tlogits = self.linear(decoder_output)\n",
    "\t\tprobabilities = torch.softmax(logits, dim=-1)\n",
    "\n",
    "\t\treturn probabilities\n",
    "\t\n",
    "cherokee_input = torch.randint(low=0, high=cherokee_vocab_size-1, size=(SEQUENCE_LENGTH,))\n",
    "target_context = torch.zeros(size=(SEQUENCE_LENGTH,), dtype=int)\n",
    "model = Transformer()\n",
    "print(model(cherokee_input, target_context).shape)"
   ]
  }
 ],
 "metadata": {
  "kernelspec": {
   "display_name": "Python 3",
   "language": "python",
   "name": "python3"
  },
  "language_info": {
   "codemirror_mode": {
    "name": "ipython",
    "version": 3
   },
   "file_extension": ".py",
   "mimetype": "text/x-python",
   "name": "python",
   "nbconvert_exporter": "python",
   "pygments_lexer": "ipython3",
   "version": "3.11.6"
  }
 },
 "nbformat": 4,
 "nbformat_minor": 2
}
