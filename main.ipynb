{
 "cells": [
  {
   "cell_type": "code",
   "execution_count": 1,
   "metadata": {},
   "outputs": [],
   "source": [
    "import torch\n",
    "import torch.nn as nn\n",
    "from nltk.tokenize import word_tokenize\n",
    "from os import path\n",
    "from math import sqrt"
   ]
  },
  {
   "cell_type": "code",
   "execution_count": 2,
   "metadata": {},
   "outputs": [],
   "source": [
    "class Vocabulary:\n",
    "\tdef __init__(self):\n",
    "\t\tself.vocabulary = set('')\n",
    "\t\tself.stoi = {'':0}\n",
    "\t\tself.itos = {0:''}\n",
    "\n",
    "\tdef add(self, v):\n",
    "\t\tif type(v) == str:\n",
    "\t\t\tself.vocabulary(v)\n",
    "\t\telif type(v) == list:\n",
    "\t\t\tself.vocabulary = self.vocabulary.union(set(v)) \n",
    "\n",
    "\tdef create_mappings(self):\n",
    "\t\tself.stoi = {v:i+1 for i, v in enumerate(self.vocabulary)}\n",
    "\t\tself.itos = {i+1:v for i, v in enumerate(self.vocabulary)}\n",
    "\n",
    "\tdef encode(self, s): \n",
    "\t\treturn [self.stoi[c] for c in s]\n",
    "\t\n",
    "\tdef decode(self, i): \n",
    "\t\treturn [self.itos[n] for n in i]\n",
    "\t\n",
    "\n",
    "class PreProcessor:\n",
    "\tdef __init__(self):\n",
    "\t\tself.english_vocabulary = Vocabulary()\n",
    "\t\tself.cherokee_vocabulary = Vocabulary()\n",
    "\t\tself.cherokee = []\n",
    "\t\tself.english = []\n",
    "\t\tself.max_length = 0\n",
    "\t\tself.count = 0\n",
    "\n",
    "\tdef load_text(self, file_name):\n",
    "\t\tdata, language = [], file_name.split('.')[1]\n",
    "\n",
    "\t\twith open(file_name) as f:\n",
    "\t\t\tfor line in f.readlines():\n",
    "\t\t\t\tsentence = word_tokenize(line)\n",
    "\n",
    "\t\t\t\tif language == 'en': \n",
    "\t\t\t\t\tself.english_vocabulary.add(sentence)\n",
    "\t\t\t\telse:\n",
    "\t\t\t\t\tself.cherokee_vocabulary.add(sentence)\n",
    "\n",
    "\t\t\t\tself.max_length = max(self.max_length, len(sentence))\n",
    "\t\t\t\tdata.append(sentence)\n",
    "\t\t\t\tself.count += 1 \n",
    "\t\treturn data\n",
    "\t\n",
    "\tdef get_data(self, file_set):\n",
    "\t\tcherokee = self.load_text(path.join('chr_en_data', f'{file_set}.chr'))\n",
    "\t\tenglish  = self.load_text(path.join('chr_en_data', f'{file_set}.en' ))\n",
    "\t\tassert len(cherokee) == len(english)\n",
    "\t\tself.cherokee += cherokee\n",
    "\t\tself.english  += english\n",
    "\n",
    "\t\treturn cherokee, english\n",
    "\n",
    "\t\n",
    "\tdef create_tensors(self):\n",
    "\t\tself.english_vocabulary.create_mappings()\n",
    "\t\tself.cherokee_vocabulary.create_mappings()\n",
    "\n",
    "\t\tenglish  = torch.zeros(size=(self.count//2, self.max_length), dtype=int)\n",
    "\t\tcherokee = torch.zeros(size=(self.count//2, self.max_length), dtype=int)\n",
    "\n",
    "\t\tfor i, sen in enumerate(self.english):\n",
    "\t\t\tfor j, v in enumerate(self.english_vocabulary.encode(sen)):\n",
    "\t\t\t\tenglish[i, j] = v\n",
    "\t\t\n",
    "\t\tfor i, sen in enumerate(self.cherokee):\n",
    "\t\t\tfor j, v in enumerate(self.cherokee_vocabulary.encode(sen)):\n",
    "\t\t\t\tcherokee[i, j] = v\n",
    "\n",
    "\t\tself.cherokee, self.english = cherokee, english\n",
    "\n",
    "\n",
    "preprocessor = PreProcessor()\n",
    "preprocessor.get_data('dev')\n",
    "preprocessor.get_data('test')\n",
    "preprocessor.get_data('train')\n",
    "preprocessor.create_tensors()\n",
    "\n",
    "test = word_tokenize('ᏣᏌᏙᏰᏃ ᎢᎦᎦᏛ ᏓᏳᏂᎷᏤᎵ ᏂᎬᎾᏛ ᏗᏁᎯ.')\n",
    "\n",
    "assert preprocessor.cherokee_vocabulary.decode(preprocessor.cherokee_vocabulary.encode(test)) == test\n",
    "assert preprocessor.english.shape == preprocessor.cherokee.shape"
   ]
  },
  {
   "cell_type": "code",
   "execution_count": 5,
   "metadata": {},
   "outputs": [
    {
     "name": "stdout",
     "output_type": "stream",
     "text": [
      "tensor([34498,  7141, 40884, 16430,  7141, 40884, 39221,  7141, 39464, 35046,\n",
      "        22862, 17129, 16350, 19761, 23319, 40884, 23696, 17479, 33683,  8831,\n",
      "        32897,     0,     0,     0,     0,     0,     0,     0,     0,     0,\n",
      "            0,     0,     0,     0,     0,     0,     0,     0,     0,     0,\n",
      "            0,     0,     0,     0,     0,     0,     0,     0,     0,     0,\n",
      "            0,     0,     0,     0,     0,     0,     0,     0,     0,     0,\n",
      "            0,     0,     0,     0,     0,     0,     0,     0,     0,     0,\n",
      "            0,     0,     0,     0,     0,     0,     0,     0,     0,     0,\n",
      "            0,     0,     0,     0,     0,     0,     0,     0,     0,     0,\n",
      "            0,     0,     0,     0,     0,     0,     0,     0,     0,     0,\n",
      "            0,     0,     0,     0,     0,     0,     0,     0,     0,     0,\n",
      "            0,     0,     0,     0,     0,     0,     0,     0,     0,     0,\n",
      "            0,     0,     0])\n"
     ]
    }
   ],
   "source": [
    "cherokee, english = preprocessor.cherokee, preprocessor.english\n",
    "print(cherokee[0])"
   ]
  },
  {
   "cell_type": "code",
   "execution_count": 24,
   "metadata": {},
   "outputs": [],
   "source": [
    "EMBEDDING_DIMENSIONS = 2\n",
    "SEQUENCE_LENGTH      = 5\n",
    "QKV_DIMENSIONS       = 2"
   ]
  },
  {
   "cell_type": "code",
   "execution_count": 38,
   "metadata": {},
   "outputs": [
    {
     "name": "stdout",
     "output_type": "stream",
     "text": [
      "tensor([[0.6418, 0.5756],\n",
      "        [0.5064, 0.7219],\n",
      "        [0.7315, 0.4322],\n",
      "        [0.6999, 0.4847],\n",
      "        [0.6573, 0.5526]], grad_fn=<MmBackward0>)\n"
     ]
    }
   ],
   "source": [
    "class AttentionHead(nn.Module):\n",
    "\tdef __init__(self):\n",
    "\t\tsuper().__init__()\n",
    "\t\tself.obtain_key   = nn.Linear(EMBEDDING_DIMENSIONS, QKV_DIMENSIONS)\n",
    "\t\tself.obtain_query = nn.Linear(EMBEDDING_DIMENSIONS, QKV_DIMENSIONS)\n",
    "\t\tself.obtain_value = nn.Linear(EMBEDDING_DIMENSIONS, QKV_DIMENSIONS)\n",
    "\n",
    "\tdef forward(self, data):\n",
    "\t\tQ, K, V = self.obtain_key(data), self.obtain_query(data), self.obtain_value(data)\n",
    "\t\tmat_mul = Q @ torch.transpose(K, 0, 1)\n",
    "\t\tscaled_mat_mul = mat_mul / sqrt(QKV_DIMENSIONS)\n",
    "\t\tsoftmax_mat_mul = torch.softmax(scaled_mat_mul, dim=-1)\n",
    "\t\toutput = softmax_mat_mul @ V\n",
    "\n",
    "\t\treturn output\n",
    "\t\n",
    "test = torch.randn(size=(SEQUENCE_LENGTH, EMBEDDING_DIMENSIONS))\n",
    "test_module = AttentionHead()\n",
    "print(test_module(test))\n",
    "\n"
   ]
  }
 ],
 "metadata": {
  "kernelspec": {
   "display_name": "Python 3",
   "language": "python",
   "name": "python3"
  },
  "language_info": {
   "codemirror_mode": {
    "name": "ipython",
    "version": 3
   },
   "file_extension": ".py",
   "mimetype": "text/x-python",
   "name": "python",
   "nbconvert_exporter": "python",
   "pygments_lexer": "ipython3",
   "version": "3.11.6"
  }
 },
 "nbformat": 4,
 "nbformat_minor": 2
}
